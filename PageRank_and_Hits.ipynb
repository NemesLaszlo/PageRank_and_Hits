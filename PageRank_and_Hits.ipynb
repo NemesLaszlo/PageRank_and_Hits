{
 "cells": [
  {
   "cell_type": "code",
   "execution_count": 17,
   "metadata": {},
   "outputs": [
    {
     "name": "stdout",
     "output_type": "stream",
     "text": [
      "Requirement already satisfied: jsonlines in c:\\users\\wowla\\anaconda3\\lib\\site-packages (1.2.0)\n",
      "Requirement already satisfied: six in c:\\users\\wowla\\anaconda3\\lib\\site-packages (from jsonlines) (1.14.0)\n"
     ]
    }
   ],
   "source": [
    "!pip install jsonlines\n",
    "\n",
    "import numpy as np\n",
    "import pandas as pd\n",
    "import jsonlines\n",
    "import networkx as nx\n",
    "import operator\n",
    "from collections import Counter\n",
    "from numpy import linalg as LA"
   ]
  },
  {
   "cell_type": "code",
   "execution_count": 18,
   "metadata": {},
   "outputs": [
    {
     "name": "stdout",
     "output_type": "stream",
     "text": [
      "[[1. 0. 0. 1. 0. 0. 0. 0. 0. 0. 0.]\n",
      " [1. 0. 1. 1. 1. 1. 1. 1. 1. 0. 0.]\n",
      " [1. 1. 0. 0. 0. 0. 0. 0. 0. 0. 0.]\n",
      " [1. 0. 0. 0. 1. 0. 0. 0. 0. 0. 0.]\n",
      " [1. 0. 0. 0. 0. 1. 1. 1. 1. 1. 1.]\n",
      " [1. 0. 0. 0. 1. 0. 0. 0. 0. 0. 0.]\n",
      " [1. 0. 0. 0. 0. 0. 0. 0. 0. 0. 0.]\n",
      " [1. 0. 0. 0. 0. 0. 0. 0. 0. 0. 0.]\n",
      " [1. 0. 0. 0. 0. 0. 0. 0. 0. 0. 0.]\n",
      " [1. 0. 0. 0. 0. 0. 0. 0. 0. 0. 0.]\n",
      " [1. 0. 0. 0. 0. 0. 0. 0. 0. 0. 0.]]\n"
     ]
    }
   ],
   "source": [
    "n_pages = 11\n",
    "M_counts = np.zeros((n_pages, n_pages)) \n",
    "\n",
    "M_counts[:,0] = 1 \n",
    "M_counts[2,1] = 1 \n",
    "M_counts[1,2] = 1 \n",
    "M_counts[0,3] = 1 \n",
    "M_counts[1,3] = 1 \n",
    "M_counts[1,4] = 1 \n",
    "M_counts[3,4] = 1 \n",
    "M_counts[5,4] = 1 \n",
    "M_counts[1,5] = 1 \n",
    "M_counts[4,5] = 1 \n",
    "M_counts[1,6] = 1 \n",
    "M_counts[4,6] = 1\n",
    "M_counts[1,7] = 1\n",
    "M_counts[4,7] = 1\n",
    "M_counts[1,8] = 1\n",
    "M_counts[4,8] = 1\n",
    "M_counts[4,9] = 1\n",
    "M_counts[4,10] = 1\n",
    "\n",
    "print(M_counts)"
   ]
  },
  {
   "cell_type": "code",
   "execution_count": 19,
   "metadata": {},
   "outputs": [
    {
     "name": "stdout",
     "output_type": "stream",
     "text": [
      "[[0.091 0.    0.    0.5   0.    0.    0.    0.    0.    0.    0.   ]\n",
      " [0.091 0.    1.    0.5   0.333 0.5   0.5   0.5   0.5   0.    0.   ]\n",
      " [0.091 1.    0.    0.    0.    0.    0.    0.    0.    0.    0.   ]\n",
      " [0.091 0.    0.    0.    0.333 0.    0.    0.    0.    0.    0.   ]\n",
      " [0.091 0.    0.    0.    0.    0.5   0.5   0.5   0.5   1.    1.   ]\n",
      " [0.091 0.    0.    0.    0.333 0.    0.    0.    0.    0.    0.   ]\n",
      " [0.091 0.    0.    0.    0.    0.    0.    0.    0.    0.    0.   ]\n",
      " [0.091 0.    0.    0.    0.    0.    0.    0.    0.    0.    0.   ]\n",
      " [0.091 0.    0.    0.    0.    0.    0.    0.    0.    0.    0.   ]\n",
      " [0.091 0.    0.    0.    0.    0.    0.    0.    0.    0.    0.   ]\n",
      " [0.091 0.    0.    0.    0.    0.    0.    0.    0.    0.    0.   ]]\n"
     ]
    }
   ],
   "source": [
    "M = np.empty((n_pages, n_pages))\n",
    "\n",
    "for j in range(n_pages):\n",
    "    M[:,j] = M_counts[:,j] / M_counts[:,j].sum()\n",
    "np.set_printoptions(precision=3)\n",
    "\n",
    "print(M)"
   ]
  },
  {
   "cell_type": "code",
   "execution_count": 20,
   "metadata": {},
   "outputs": [
    {
     "data": {
      "text/plain": [
       "array([0.033, 0.384, 0.343, 0.039, 0.081, 0.039, 0.016, 0.016, 0.016,\n",
       "       0.016, 0.016])"
      ]
     },
     "execution_count": 20,
     "metadata": {},
     "output_type": "execute_result"
    }
   ],
   "source": [
    "def page_rank(M, d=0.85, square_error=1e-6):\n",
    "    n_pages = M.shape[0] \n",
    "    v = np.random.rand(n_pages)\n",
    "    v = v / v.sum() \n",
    "    last_v = np.ones((n_pages)) \n",
    "    M_hat = d * M + (1-d)/n_pages * np.ones((n_pages, n_pages)) \n",
    "    while np.square(v - last_v).sum() > square_error:\n",
    "        last_v = v\n",
    "        v = M_hat.dot(v)\n",
    "        \n",
    "    return v\n",
    "\n",
    "page_rank(M)"
   ]
  },
  {
   "cell_type": "code",
   "execution_count": 21,
   "metadata": {},
   "outputs": [],
   "source": [
    "def create_tweet_graph_from_file(filename):\n",
    "    edges_list = [] \n",
    "\n",
    "    with jsonlines.open(filename, 'r') as f:\n",
    "        for jsn in f:\n",
    "            rt_user_id = jsn[\"user\"][\"id\"]\n",
    "            source_user_id = jsn[\"retweeted_status\"][\"user\"][\"id\"]\n",
    "            if rt_user_id != source_user_id:\n",
    "                edges_list.append((rt_user_id, source_user_id))\n",
    "    \n",
    "    \n",
    "    weighted_edge_list = Counter(edges_list)\n",
    "    tweet_graph = nx.DiGraph()\n",
    "    \n",
    "    for edge in weighted_edge_list.items():\n",
    "        source = edge[0][0]\n",
    "        destination = edge[0][1]\n",
    "        weight = edge[1]\n",
    "        tweet_graph.add_edge(source, destination, weight=weight)\n",
    "        \n",
    "    return tweet_graph"
   ]
  },
  {
   "cell_type": "code",
   "execution_count": 22,
   "metadata": {},
   "outputs": [
    {
     "data": {
      "text/plain": [
       "6177"
      ]
     },
     "execution_count": 22,
     "metadata": {},
     "output_type": "execute_result"
    }
   ],
   "source": [
    "tweet_graph = create_tweet_graph_from_file(\"HITS.json\")\n",
    "tweet_graph.size()"
   ]
  },
  {
   "cell_type": "code",
   "execution_count": 23,
   "metadata": {},
   "outputs": [],
   "source": [
    "def hits(graph, iter_count = 20):\n",
    "    nodes = graph.nodes()\n",
    "    nodes_count = len(nodes)\n",
    "    matrix = nx.to_numpy_matrix(graph, nodelist=nodes)\n",
    "    \n",
    "    hubs_score = np.ones(nodes_count)\n",
    "    auth_score = np.ones(nodes_count)\n",
    "    H = matrix * matrix.T\n",
    "    A = matrix.T * matrix\n",
    "   \n",
    "    for i in range(iter_count):\n",
    "       \n",
    "        hubs_score = hubs_score * H \n",
    "        auth_score = auth_score * A \n",
    "        hubs_score = hubs_score / LA.norm(hubs_score)\n",
    "        auth_score = auth_score / LA.norm(auth_score)\n",
    "        \n",
    "    hubs_score = np.array(hubs_score).reshape(-1,)\n",
    "    auth_score = np.array(auth_score).reshape(-1,)\n",
    "    \n",
    "    hubs = dict(zip(nodes, hubs_score))\n",
    "    authorities = dict(zip(nodes, auth_score))\n",
    "    \n",
    "    return hubs, authorities"
   ]
  },
  {
   "cell_type": "code",
   "execution_count": 24,
   "metadata": {},
   "outputs": [],
   "source": [
    "def get_top_k_hubs(graph, k = 10):\n",
    "    hubs = hits(graph)[0]\n",
    "    return sorted(hubs.items(), key = operator.itemgetter(1), reverse = True)[:k]\n",
    "\n",
    "def get_top_k_authorities(graph, k = 10):\n",
    "    auth = hits(graph)[1]\n",
    "    return sorted(auth.items(), key = operator.itemgetter(1), reverse = True)[:k]"
   ]
  },
  {
   "cell_type": "code",
   "execution_count": 25,
   "metadata": {},
   "outputs": [
    {
     "data": {
      "text/plain": [
       "[(3068706044, 0.6228962788346416),\n",
       " (3093940760, 0.2960833772615782),\n",
       " (2194518394, 0.25979684894330446),\n",
       " (2862783698, 0.20250708715416685),\n",
       " (3092183276, 0.17046401522271867),\n",
       " (3029724797, 0.16693938874412695),\n",
       " (2990704188, 0.14781712484957882),\n",
       " (3001500121, 0.1450694492814583),\n",
       " (3086921438, 0.12911896850758386),\n",
       " (3042686360, 0.12523755718547333)]"
      ]
     },
     "execution_count": 25,
     "metadata": {},
     "output_type": "execute_result"
    }
   ],
   "source": [
    "top_10_tweet_hubs = get_top_k_hubs(tweet_graph)\n",
    "top_10_tweet_hubs"
   ]
  },
  {
   "cell_type": "code",
   "execution_count": 26,
   "metadata": {},
   "outputs": [
    {
     "data": {
      "text/plain": [
       "[(3042570996, 0.5445084183897634),\n",
       " (3065514742, 0.4929955772989205),\n",
       " (1638625987, 0.4437589239003996),\n",
       " (3077733683, 0.28651236641693445),\n",
       " (3039321886, 0.2242627827645839),\n",
       " (3077695572, 0.1218423014626474),\n",
       " (3019659587, 0.11321175872457184),\n",
       " (1358345766, 0.09894209162744073),\n",
       " (3061155846, 0.09396927090171626),\n",
       " (3092580049, 0.09366139118323492)]"
      ]
     },
     "execution_count": 26,
     "metadata": {},
     "output_type": "execute_result"
    }
   ],
   "source": [
    "top_10_tweet_auth = get_top_k_authorities(tweet_graph)\n",
    "top_10_tweet_auth"
   ]
  }
 ],
 "metadata": {
  "kernelspec": {
   "display_name": "Python 3",
   "language": "python",
   "name": "python3"
  },
  "language_info": {
   "codemirror_mode": {
    "name": "ipython",
    "version": 3
   },
   "file_extension": ".py",
   "mimetype": "text/x-python",
   "name": "python",
   "nbconvert_exporter": "python",
   "pygments_lexer": "ipython3",
   "version": "3.7.6"
  }
 },
 "nbformat": 4,
 "nbformat_minor": 4
}
